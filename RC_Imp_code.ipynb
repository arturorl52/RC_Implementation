{
 "cells": [
  {
   "cell_type": "code",
   "execution_count": 1,
   "id": "75e001f7-7e14-4371-a7a2-c800614d9de2",
   "metadata": {},
   "outputs": [
    {
     "name": "stderr",
     "output_type": "stream",
     "text": [
      "/home/jupyter-arturolopez/.local/lib/python3.9/site-packages/qiskit/providers/aer/pulse/qutip_extra_lite/fastsparse.py:57: DeprecationWarning: Please use `upcast` from the `scipy.sparse` namespace, the `scipy.sparse.sputils` namespace is deprecated.\n",
      "  from scipy.sparse.sputils import (upcast, isdense, isscalarlike, get_index_dtype)\n",
      "/home/jupyter-arturolopez/.local/lib/python3.9/site-packages/qiskit/providers/aer/pulse/qutip_extra_lite/fastsparse.py:57: DeprecationWarning: Please use `isdense` from the `scipy.sparse` namespace, the `scipy.sparse.sputils` namespace is deprecated.\n",
      "  from scipy.sparse.sputils import (upcast, isdense, isscalarlike, get_index_dtype)\n",
      "/home/jupyter-arturolopez/.local/lib/python3.9/site-packages/qiskit/providers/aer/pulse/qutip_extra_lite/fastsparse.py:57: DeprecationWarning: Please use `isscalarlike` from the `scipy.sparse` namespace, the `scipy.sparse.sputils` namespace is deprecated.\n",
      "  from scipy.sparse.sputils import (upcast, isdense, isscalarlike, get_index_dtype)\n",
      "/home/jupyter-arturolopez/.local/lib/python3.9/site-packages/qiskit/providers/aer/pulse/qutip_extra_lite/fastsparse.py:57: DeprecationWarning: Please use `get_index_dtype` from the `scipy.sparse` namespace, the `scipy.sparse.sputils` namespace is deprecated.\n",
      "  from scipy.sparse.sputils import (upcast, isdense, isscalarlike, get_index_dtype)\n",
      "/home/jupyter-arturolopez/.local/lib/python3.9/site-packages/qiskit/providers/aer/pulse/qutip_extra_lite/fastsparse.py:58: DeprecationWarning: Please use `SparseEfficiencyWarning` from the `scipy.sparse` namespace, the `scipy.sparse.base` namespace is deprecated.\n",
      "  from scipy.sparse.base import SparseEfficiencyWarning\n"
     ]
    }
   ],
   "source": [
    "import qiskit as qc\n",
    "from qiskit import QuantumCircuit\n",
    "import numpy as np\n",
    "from numpy import random"
   ]
  },
  {
   "cell_type": "code",
   "execution_count": 2,
   "id": "881a1ea1-7279-4928-9f19-76053ed73a53",
   "metadata": {},
   "outputs": [],
   "source": [
    "def randomBC(numCycles,numQubits): #input function (with appropriate limitations), requires at least 2 qubits\n",
    "    randBC = QuantumCircuit(numQubits)\n",
    "    poss_EZgates = [\"X\",\"Y\",\"Z\",\"H\",\"I\"]\n",
    "    for i in range(numCycles-1):\n",
    "        for j in range(numQubits):\n",
    "            a = np.random.choice(poss_EZgates)\n",
    "            if a == \"X\":\n",
    "                randBC.x(j)\n",
    "            elif a == \"Y\":\n",
    "                randBC.y(j)\n",
    "            elif a == \"Z\":\n",
    "                randBC.z(j)\n",
    "            elif a == \"H\":\n",
    "                randBC.h(j)\n",
    "            else:\n",
    "                randBC.id(j)\n",
    "        b = np.random.randint(0,numQubits)\n",
    "        c = np.random.randint(0,numQubits)\n",
    "        while c == b:\n",
    "            c = np.random.randint(0,numQubits)\n",
    "        randBC.cx(b,c)\n",
    "        randBC.barrier()\n",
    "    for j in range(numQubits):\n",
    "        a = np.random.choice(poss_EZgates)\n",
    "        if a == \"X\":\n",
    "            randBC.x(j)\n",
    "        elif a == \"Y\":\n",
    "            randBC.y(j)\n",
    "        elif a == \"Z\":\n",
    "            randBC.z(j)\n",
    "        elif a == \"H\":\n",
    "            randBC.h(j)\n",
    "        else:\n",
    "            randBC.id(j)\n",
    "    return randBC"
   ]
  },
  {
   "cell_type": "code",
   "execution_count": 3,
   "id": "3dcd3b1a-b00c-44b8-ae9f-630db33be960",
   "metadata": {},
   "outputs": [
    {
     "data": {
      "text/html": [
       "<pre style=\"word-wrap: normal;white-space: pre;background: #fff0;line-height: 1.1;font-family: &quot;Courier New&quot;,Courier,monospace\">     ┌───┐      ░ ┌───┐      ░ ┌───┐      ░ ┌───┐\n",
       "q_0: ┤ H ├──────░─┤ Y ├──■───░─┤ X ├──────░─┤ X ├\n",
       "     ├───┤┌───┐ ░ ├───┤┌─┴─┐ ░ ├───┤┌───┐ ░ ├───┤\n",
       "q_1: ┤ X ├┤ X ├─░─┤ Z ├┤ X ├─░─┤ Y ├┤ X ├─░─┤ Z ├\n",
       "     ├───┤└─┬─┘ ░ ├───┤└───┘ ░ ├───┤└─┬─┘ ░ ├───┤\n",
       "q_2: ┤ I ├──┼───░─┤ Y ├──────░─┤ Z ├──┼───░─┤ Y ├\n",
       "     ├───┤  │   ░ ├───┤      ░ ├───┤  │   ░ ├───┤\n",
       "q_3: ┤ X ├──■───░─┤ Z ├──────░─┤ H ├──■───░─┤ Z ├\n",
       "     └───┘      ░ └───┘      ░ └───┘      ░ └───┘</pre>"
      ],
      "text/plain": [
       "     ┌───┐      ░ ┌───┐      ░ ┌───┐      ░ ┌───┐\n",
       "q_0: ┤ H ├──────░─┤ Y ├──■───░─┤ X ├──────░─┤ X ├\n",
       "     ├───┤┌───┐ ░ ├───┤┌─┴─┐ ░ ├───┤┌───┐ ░ ├───┤\n",
       "q_1: ┤ X ├┤ X ├─░─┤ Z ├┤ X ├─░─┤ Y ├┤ X ├─░─┤ Z ├\n",
       "     ├───┤└─┬─┘ ░ ├───┤└───┘ ░ ├───┤└─┬─┘ ░ ├───┤\n",
       "q_2: ┤ I ├──┼───░─┤ Y ├──────░─┤ Z ├──┼───░─┤ Y ├\n",
       "     ├───┤  │   ░ ├───┤      ░ ├───┤  │   ░ ├───┤\n",
       "q_3: ┤ X ├──■───░─┤ Z ├──────░─┤ H ├──■───░─┤ Z ├\n",
       "     └───┘      ░ └───┘      ░ └───┘      ░ └───┘"
      ]
     },
     "execution_count": 3,
     "metadata": {},
     "output_type": "execute_result"
    }
   ],
   "source": [
    "numC = np.random.randint(4,8)\n",
    "numQ = np.random.randint(2,5)\n",
    "randBC = randomBC(numC,numQ)\n",
    "randBC.draw()"
   ]
  },
  {
   "cell_type": "code",
   "execution_count": 4,
   "id": "c1aedf40-318f-4b65-9cf8-23fb6b786ad5",
   "metadata": {},
   "outputs": [],
   "source": [
    "def parsing(QuantumCircuit):\n",
    "    qasm = QuantumCircuit.qasm()\n",
    "    lis = []\n",
    "    lin = \"\"\n",
    "    for s in qasm:\n",
    "        if s == \";\":\n",
    "            lis.append(lin)\n",
    "            lin=\"\"\n",
    "        elif s == \"\\n\":\n",
    "            pass\n",
    "        else:\n",
    "            lin += s\n",
    "    \n",
    "    lis.pop(0)\n",
    "    lis.pop(0)\n",
    "    #getting rid of the first two lines of the qasm code\n",
    "    #could also make a while loop to pop() the lines that don't start with qreg\n",
    "    \n",
    "    if \"qreg\" in lis[0]:\n",
    "        qreg=lis[0]\n",
    "        numQubits=int(qreg[-2])\n",
    "        lis.pop(0)\n",
    "    else:\n",
    "        print(\"There is an error in getting the number of qubits\")\n",
    "    \n",
    "    if \"creg\" in lis[0]: #a restriction we do not have is the number of \n",
    "        lis.pop(0) # classical bits in the inputted bare circuit\n",
    "    \n",
    "    easyGates = []\n",
    "    numCycles = 1\n",
    "    for i in range(len(lis)):\n",
    "        line = lis[i]\n",
    "        if \"h\" in line:\n",
    "            easyGates.append(\"H\")\n",
    "        elif \"x\" in line and \"c\" not in line:\n",
    "            easyGates.append(\"X\")\n",
    "        elif \"y\" in line:\n",
    "            easyGates.append(\"Y\")\n",
    "        elif \"z\" in line:\n",
    "            easyGates.append(\"Z\")\n",
    "        #elif \"t\" in line:\n",
    "            #easyGates.append(\"T\") not taking T as a possibility in our bare circuit gates anymore\n",
    "        elif \"id\" in line:\n",
    "            easyGates.append(\"I\")\n",
    "        elif \"barrier\" in line:\n",
    "            numCycles += 1\n",
    "        elif \"cx\" in line:\n",
    "            continue\n",
    "        else:\n",
    "            print(f\"unexpected line or gate in qasm interpretation in line {i} \")\n",
    "    \n",
    "    controls = []\n",
    "    targets = []\n",
    "    \n",
    "    for i in range(len(lis)):\n",
    "        line = lis[i]\n",
    "        if \"cx\" in line:\n",
    "            for j in range(len(line)):\n",
    "                if line[j] == \"]\":\n",
    "                    a=line[j-1]\n",
    "                    if j == 6:\n",
    "                        controls.append(a)\n",
    "                    elif j==11:\n",
    "                        targets.append(a)\n",
    "                    else:\n",
    "                        print(\"something weird happening with cx\")\n",
    "    return numQubits, numCycles, easyGates, controls, targets"
   ]
  },
  {
   "cell_type": "code",
   "execution_count": 5,
   "id": "070484a8-c590-40a6-aef0-68bd8abb58b1",
   "metadata": {},
   "outputs": [],
   "source": [
    "(numQubits, numCycles, easyGates, controls, targets)=parsing(randBC)"
   ]
  },
  {
   "cell_type": "code",
   "execution_count": 6,
   "id": "1f95093e-def1-49b8-a4f1-78e7cccc407a",
   "metadata": {},
   "outputs": [],
   "source": [
    "def twirling_gates(numQubits, numCycles): #assigns T_k gates from Twirling set\n",
    "    twirling_set = [\"X\",\"Y\",\"Z\",\"I\"]\n",
    "    random_twirling = []\n",
    "    for i in range(numQubits*(numCycles-1)):\n",
    "        random_twirling.append(np.random.choice(twirling_set))\n",
    "    for i in range(numQubits):\n",
    "        random_twirling.append(\"I\")\n",
    "    return random_twirling"
   ]
  },
  {
   "cell_type": "code",
   "execution_count": 7,
   "id": "6ff606ea-57b9-4b33-96b5-4bca58bde40a",
   "metadata": {},
   "outputs": [
    {
     "data": {
      "text/plain": [
       "['Y',\n",
       " 'X',\n",
       " 'I',\n",
       " 'Y',\n",
       " 'X',\n",
       " 'X',\n",
       " 'Z',\n",
       " 'Y',\n",
       " 'Z',\n",
       " 'Y',\n",
       " 'Y',\n",
       " 'I',\n",
       " 'I',\n",
       " 'I',\n",
       " 'I',\n",
       " 'I']"
      ]
     },
     "execution_count": 7,
     "metadata": {},
     "output_type": "execute_result"
    }
   ],
   "source": [
    "random_twirling = twirling_gates(numQubits, numCycles)\n",
    "random_twirling"
   ]
  },
  {
   "cell_type": "code",
   "execution_count": 8,
   "id": "54540400-0216-4391-8721-e0ef945ec341",
   "metadata": {},
   "outputs": [],
   "source": [
    "def inverting_operators(random_twirling, targets, numQubits):\n",
    "    target_indeces = []\n",
    "    for i in range(len(targets)): #getting indeces of inverting_matrices that need to change\n",
    "        target_indeces.append(str(int(targets[i])+ numQubits*i))\n",
    "    \n",
    "    inverting_gates = []\n",
    "    for i in range(numQubits):\n",
    "        inverting_gates.append(\"I\")\n",
    "    for i in range(len(random_twirling)-numQubits):\n",
    "        if str(i) in target_indeces:\n",
    "            #do multiplication formula:: Honestly, nevermind: just match with if state\n",
    "            if random_twirling[i]==\"X\":\n",
    "                inverting_gates.append(\"I\")\n",
    "            elif random_twirling[i]==\"Y\":\n",
    "                inverting_gates.append(\"Z\") #i think its a z rotation of maybe 180 degrees. Matrix is [i,0],[0,-i]\n",
    "            elif random_twirling[i]==\"Z\":   #the fact that it's a z rotation makes sense w pen method.\n",
    "                inverting_gates.append(\"Y\") #not sure if correct. matrix is [0,-1],[1,0]\n",
    "            elif random_twirling[i]==\"I\":\n",
    "                inverting_gates.append(\"X\")\n",
    "            else:\n",
    "                print(\"unrecognized gate before cx target qubit in prev. cycle\")\n",
    "        else:\n",
    "            inverting_gates.append(random_twirling[i])\n",
    "    return target_indeces, inverting_gates\n",
    "        "
   ]
  },
  {
   "cell_type": "code",
   "execution_count": 9,
   "id": "4756050a-84ef-43eb-a727-c21bbaf608d3",
   "metadata": {},
   "outputs": [
    {
     "data": {
      "text/plain": [
       "['I',\n",
       " 'I',\n",
       " 'I',\n",
       " 'I',\n",
       " 'Y',\n",
       " 'I',\n",
       " 'I',\n",
       " 'Y',\n",
       " 'X',\n",
       " 'I',\n",
       " 'Z',\n",
       " 'Y',\n",
       " 'Z',\n",
       " 'Z',\n",
       " 'Y',\n",
       " 'I']"
      ]
     },
     "execution_count": 9,
     "metadata": {},
     "output_type": "execute_result"
    }
   ],
   "source": [
    "(target_indeces, inverting_gates)=inverting_operators(random_twirling, targets, numQubits)\n",
    "inverting_gates"
   ]
  },
  {
   "cell_type": "code",
   "execution_count": 41,
   "id": "556da2d8-db44-4154-8dfd-ea41a5f34b5c",
   "metadata": {},
   "outputs": [],
   "source": [
    "def gate2mat(gate):\n",
    "    if gate == \"X\":\n",
    "        gate_matrix = np.array([[0,1],\n",
    "                                [1,0]])\n",
    "    elif gate == \"Y\":\n",
    "        gate_matrix = np.array([[0,-1j],\n",
    "                                [1j,0]])\n",
    "    elif gate == \"Z\":\n",
    "        gate_matrix = np.array([[1,0],\n",
    "                                [0,-1]])\n",
    "    elif gate == \"H\":\n",
    "        gate_matrix = 1/np.sqrt(2) *np.array([[1,1],\n",
    "                                [1,-1]])\n",
    "    elif gate == \"I\":\n",
    "        gate_matrix = np.array([[1,0],\n",
    "                                [0,1]])\n",
    "    elif gate == \"Yn90\":\n",
    "        gate_matrix = 1/np.sqrt(2) *np.array([[-1j,-1j],[1j,-1j]]) #only put in here for testing whether the same qubit\n",
    "                                                                # is in same state put thru both the BC and RCqc\n",
    "        \n",
    "    #elif gate == \"T\":\n",
    "        #gate_matrix = np.array([[1,0],\n",
    "                                #[0,np.exp(1j*np.pi/4)]])\n",
    "    #got rid of the T gate being allowed in our input bare circuit because it only complicates the mat2gate function \n",
    "    #even more by adding rotations of pi/4 in the z-axis. I'm not sure how we could reduce most of the multiplications \n",
    "    # with T in the middle into one gate. We could mathematically but I dont know what that gate would correspond to in qiskit.\n",
    "    # It would certainly not be enough to express it in a single (parametarized) operation, it would need to be two. \n",
    "    # But how can that be expressed as one gate? That must be looked into, because it would allow us to greatly expand the \n",
    "    # types of bare circuits this function can work with (possibly encompassing every possible circuit).\n",
    "        \n",
    "    else:\n",
    "        print(f\"matrix {gate} not recognized\")\n",
    "        gate_matrix = np.array([[0,0],[0,0]])\n",
    "    return gate_matrix"
   ]
  },
  {
   "cell_type": "code",
   "execution_count": 11,
   "id": "5c135b0e-f266-42b8-b1df-043ce274ed44",
   "metadata": {},
   "outputs": [],
   "source": [
    "def reduction(easyGates, random_twirling, inverting_gates, numQubits, numCycles):\n",
    "    compiled_gates = np.zeros((numQubits*numCycles,2,2),dtype = 'complex_')\n",
    "    \n",
    "    for i in range(numQubits*numCycles):\n",
    "        mat1=gate2mat(inverting_gates[i])\n",
    "        mat2=gate2mat(easyGates[i])\n",
    "        mat3=gate2mat(random_twirling[i])\n",
    "        a=np.dot(mat2,mat1)\n",
    "        compiled_gates[i]=np.dot(mat3,a)\n",
    "    \n",
    "    #want to return an array, matrix of 2x2x(however \n",
    "    #many easy gates we have in the circuit= numQubits*numCycles)\n",
    "    return compiled_gates"
   ]
  },
  {
   "cell_type": "code",
   "execution_count": 12,
   "id": "34bf77c2-153b-452b-85bd-b3db6a7008cd",
   "metadata": {},
   "outputs": [
    {
     "data": {
      "text/plain": [
       "array([[[ 0.-0.70710678j,  0.+0.70710678j],\n",
       "        [ 0.+0.70710678j, -0.+0.70710678j]],\n",
       "\n",
       "       [[ 1.+0.j        ,  0.+0.j        ],\n",
       "        [ 0.+0.j        ,  1.+0.j        ]],\n",
       "\n",
       "       [[ 1.+0.j        ,  0.+0.j        ],\n",
       "        [ 0.+0.j        ,  1.+0.j        ]],\n",
       "\n",
       "       [[ 0.-1.j        ,  0.+0.j        ],\n",
       "        [ 0.+0.j        ,  0.+1.j        ]],\n",
       "\n",
       "       [[ 0.+0.j        ,  1.+0.j        ],\n",
       "        [ 1.+0.j        ,  0.+0.j        ]],\n",
       "\n",
       "       [[ 0.+0.j        , -1.+0.j        ],\n",
       "        [ 1.+0.j        ,  0.+0.j        ]],\n",
       "\n",
       "       [[ 0.+0.j        ,  0.-1.j        ],\n",
       "        [ 0.-1.j        , -0.+0.j        ]],\n",
       "\n",
       "       [[-1.+0.j        ,  0.+0.j        ],\n",
       "        [ 0.+0.j        ,  1.+0.j        ]],\n",
       "\n",
       "       [[ 1.+0.j        ,  0.+0.j        ],\n",
       "        [ 0.+0.j        , -1.+0.j        ]],\n",
       "\n",
       "       [[ 1.+0.j        ,  0.+0.j        ],\n",
       "        [ 0.+0.j        ,  1.+0.j        ]],\n",
       "\n",
       "       [[ 0.+0.j        ,  0.-1.j        ],\n",
       "        [ 0.+1.j        ,  0.+0.j        ]],\n",
       "\n",
       "       [[ 0.+0.70710678j,  0.-0.70710678j],\n",
       "        [ 0.-0.70710678j,  0.-0.70710678j]],\n",
       "\n",
       "       [[ 0.+0.j        , -1.+0.j        ],\n",
       "        [ 1.+0.j        ,  0.+0.j        ]],\n",
       "\n",
       "       [[ 1.+0.j        ,  0.+0.j        ],\n",
       "        [ 0.+0.j        ,  1.+0.j        ]],\n",
       "\n",
       "       [[ 1.+0.j        ,  0.+0.j        ],\n",
       "        [ 0.+0.j        ,  1.+0.j        ]],\n",
       "\n",
       "       [[ 1.+0.j        ,  0.+0.j        ],\n",
       "        [ 0.+0.j        , -1.+0.j        ]]])"
      ]
     },
     "execution_count": 12,
     "metadata": {},
     "output_type": "execute_result"
    }
   ],
   "source": [
    "(compiled_gates)=reduction(easyGates, random_twirling, inverting_gates, numQubits, numCycles)\n",
    "compiled_gates"
   ]
  },
  {
   "cell_type": "code",
   "execution_count": 13,
   "id": "e4434d73-13de-4027-95c5-1f485ed10020",
   "metadata": {},
   "outputs": [],
   "source": [
    "#turn matrix into gate: will need to know how to generalize the forms of the\n",
    "# possible matrices\n",
    "def mat2gate(a): #given a 2x2 np.array()\n",
    "    gate=[]\n",
    "    gateList = [\"X\", \"Y\", \"Z\", \"H\", \"I\", \"H\",\"H\",\"H\",\"H\",\"H\",\"H\",\"H\",\"H\",\"X\",\"X\",\"X\",\n",
    "                \"Y\",\"Y\",\"Y\",\"Z\",\"Z\",\"Z\",\n",
    "                \"Yn90\",\"Yn90\",\"I\", \"I\",\"Yn90\",\"Yn90\",\"Yn90\"]\n",
    "    \n",
    "    X = np.array([[0,1],[1,0]])\n",
    "    Y = np.array([[0,-1j],[1j,0]])\n",
    "    Z = np.array([[1,0],[0,-1]])\n",
    "    H = 1/np.sqrt(2) *np.array([[1,1],[1,-1]])\n",
    "    I = np.array([[1,0],[0,1]])\n",
    "    #T = np.array([[1,0],[0,np.exp(1j*np.pi/4)]]) againk we don't use the T gate given the matrix recognizing complexity\n",
    "    \n",
    "    #extra gates I've been adding after running code:\n",
    "    H2 = 1/np.sqrt(2)*np.array([[-1,-1],[-1,1]])\n",
    "    H3 = 1/np.sqrt(2)*np.array([[-1j,-1j],[-1j,1j]])\n",
    "    H4 = 1/np.sqrt(2) *np.array([[1j,1j],[1j,-1j]])\n",
    "    H5 = 1/np.sqrt(2)*np.array([[1,-1],[1,1]])\n",
    "    H6 = 1/np.sqrt(2) *np.array([[-1,1],[-1,-1]])\n",
    "    H7 = 1/np.sqrt(2)*np.array([[1j,-1j],[1j,1j]])\n",
    "    H8 = 1/np.sqrt(2) *np.array([[-1j,1j],[-1j,-1j]])\n",
    "    H9 = 1/np.sqrt(2) *np.array([[1,-1],[-1,-1]])\n",
    "    \n",
    "    X2 = np.array([[0,-1j],[-1j,0]])\n",
    "    X3 = np.array([[0,-1],[-1,0]])\n",
    "    X4 = np.array([[0,1j],[1j,0]])\n",
    "    \n",
    "    Y2 = np.array([[0,1],[-1,0]])\n",
    "    Y3 = np.array([[0,-1],[1,0]])\n",
    "    Y4 = np.array([[0,1j],[-1j,0]])\n",
    "    \n",
    "    Z2 = np.array([[1j,0],[0,-1j]])\n",
    "    Z3 = np.array([[-1,0],[0,1]])\n",
    "    Z4 = np.array([[-1j,0],[0,1j]])\n",
    "    \n",
    "    Yn90 = 1/np.sqrt(2) *np.array([[1,1],[-1,1]])\n",
    "    Yn90_2 = 1/np.sqrt(2) *np.array([[-1j,-1j],[1j,-1j]])\n",
    "    \n",
    "    I2 = np.array([[1j,0],[0,1j]])\n",
    "    I3 = np.array([[-1j,0],[0,-1j]])\n",
    "    \n",
    "    minusOpp = 1/np.sqrt(2) *np.array([[-1,1],[1,1]])\n",
    "    minusOpp2 = 1/np.sqrt(2) *np.array([[-1j,1j],[1j,1j]]) \n",
    "    minusOpp3 = 1/np.sqrt(2) *np.array([[1j,-1j],[-1j,-1j]])#this gate is awkward because\n",
    "    #we can get to this location with a simple Yn90 gate, but to get the orientation\n",
    "    # of the vector precisely right, we would need at least two gates, ex. \"H\" then a \"Y\".\n",
    "    #For now, Ill just associate this matrix with the Yn90 rotation.\n",
    "    \n",
    "    matList = [X, Y, Z, H, I, H2,H3,H4,H5,H6,H7,H8,H9,X2,X3,X4,\n",
    "               Y2,Y3,Y4, Z2, Z3, Z4,\n",
    "               Yn90, Yn90_2,I2, I3, minusOpp, minusOpp2, minusOpp3] #only works for these specific definitions\n",
    "    for i,item in enumerate(matList):\n",
    "        if (a == item).all():\n",
    "            gate = gateList[i]\n",
    "    if gate == []:\n",
    "        print(f\"the following gate needs to be defined:{a}\")\n",
    "    return gate"
   ]
  },
  {
   "cell_type": "code",
   "execution_count": 14,
   "id": "fba6e655-0980-4ebf-9010-96f936fa1727",
   "metadata": {},
   "outputs": [],
   "source": [
    "def instructions(compiled_gates):\n",
    "    randEZgates = []\n",
    "    for i in range(len(compiled_gates)):\n",
    "        randEZgates.append(mat2gate(compiled_gates[i]))\n",
    "        \n",
    "    return randEZgates"
   ]
  },
  {
   "cell_type": "code",
   "execution_count": 15,
   "id": "a5f98fee-9862-480f-a52d-dd252c54aff2",
   "metadata": {},
   "outputs": [
    {
     "name": "stdout",
     "output_type": "stream",
     "text": [
      "['Yn90', 'I', 'I', 'Z', 'X', 'Y', 'X', 'Z', 'Z', 'I', 'Y', 'Yn90', 'Y', 'I', 'I', 'Z']\n",
      "['Y', 'X', 'I', 'Y', 'X', 'X', 'Z', 'Y', 'Z', 'Y', 'Y', 'I', 'I', 'I', 'I', 'I']\n",
      "['I', 'I', 'I', 'I', 'Y', 'I', 'I', 'Y', 'X', 'I', 'Z', 'Y', 'Z', 'Z', 'Y', 'I']\n"
     ]
    }
   ],
   "source": [
    "randEZgates = instructions(compiled_gates)\n",
    "print(randEZgates)\n",
    "print(random_twirling)\n",
    "print(inverting_gates)"
   ]
  },
  {
   "cell_type": "code",
   "execution_count": 16,
   "id": "f2e87fa2-4e5d-48e6-a3d6-9d2f80df2619",
   "metadata": {},
   "outputs": [
    {
     "data": {
      "text/html": [
       "<pre style=\"word-wrap: normal;white-space: pre;background: #fff0;line-height: 1.1;font-family: &quot;Courier New&quot;,Courier,monospace\">     ┌───┐      ░ ┌───┐      ░ ┌───┐      ░ ┌───┐\n",
       "q_0: ┤ H ├──────░─┤ Y ├──■───░─┤ X ├──────░─┤ X ├\n",
       "     ├───┤┌───┐ ░ ├───┤┌─┴─┐ ░ ├───┤┌───┐ ░ ├───┤\n",
       "q_1: ┤ X ├┤ X ├─░─┤ Z ├┤ X ├─░─┤ Y ├┤ X ├─░─┤ Z ├\n",
       "     ├───┤└─┬─┘ ░ ├───┤└───┘ ░ ├───┤└─┬─┘ ░ ├───┤\n",
       "q_2: ┤ I ├──┼───░─┤ Y ├──────░─┤ Z ├──┼───░─┤ Y ├\n",
       "     ├───┤  │   ░ ├───┤      ░ ├───┤  │   ░ ├───┤\n",
       "q_3: ┤ X ├──■───░─┤ Z ├──────░─┤ H ├──■───░─┤ Z ├\n",
       "     └───┘      ░ └───┘      ░ └───┘      ░ └───┘</pre>"
      ],
      "text/plain": [
       "     ┌───┐      ░ ┌───┐      ░ ┌───┐      ░ ┌───┐\n",
       "q_0: ┤ H ├──────░─┤ Y ├──■───░─┤ X ├──────░─┤ X ├\n",
       "     ├───┤┌───┐ ░ ├───┤┌─┴─┐ ░ ├───┤┌───┐ ░ ├───┤\n",
       "q_1: ┤ X ├┤ X ├─░─┤ Z ├┤ X ├─░─┤ Y ├┤ X ├─░─┤ Z ├\n",
       "     ├───┤└─┬─┘ ░ ├───┤└───┘ ░ ├───┤└─┬─┘ ░ ├───┤\n",
       "q_2: ┤ I ├──┼───░─┤ Y ├──────░─┤ Z ├──┼───░─┤ Y ├\n",
       "     ├───┤  │   ░ ├───┤      ░ ├───┤  │   ░ ├───┤\n",
       "q_3: ┤ X ├──■───░─┤ Z ├──────░─┤ H ├──■───░─┤ Z ├\n",
       "     └───┘      ░ └───┘      ░ └───┘      ░ └───┘"
      ]
     },
     "execution_count": 16,
     "metadata": {},
     "output_type": "execute_result"
    }
   ],
   "source": [
    "randBC.draw()"
   ]
  },
  {
   "cell_type": "code",
   "execution_count": 17,
   "id": "bdf69541-907a-4ef5-adfb-a1a56adabd18",
   "metadata": {},
   "outputs": [
    {
     "data": {
      "text/plain": [
       "array([[ 0.-0.70710678j,  0.+0.70710678j],\n",
       "       [ 0.+0.70710678j, -0.+0.70710678j]])"
      ]
     },
     "execution_count": 17,
     "metadata": {},
     "output_type": "execute_result"
    }
   ],
   "source": [
    "mat1=gate2mat(\"H\") #for testing the previous function and determining which arrays to add to mat2gate function\n",
    "mat2=gate2mat(\"Y\")\n",
    "plop=np.dot(mat2,mat1)\n",
    "mat3=gate2mat(\"Y\")\n",
    "np.dot(mat3,plop)\n",
    "plop"
   ]
  },
  {
   "cell_type": "code",
   "execution_count": 18,
   "id": "ef5564b1-99a2-44d8-b309-54af2ffba7bf",
   "metadata": {},
   "outputs": [],
   "source": [
    "def final_product(randEZgates, controls, targets, numQubits):\n",
    "    RCqc=QuantumCircuit(numQubits)\n",
    "    for j in range(len(targets)):\n",
    "        for i in range(numQubits):\n",
    "            var = randEZgates[i+j*numQubits]\n",
    "            if var == \"X\":\n",
    "                RCqc.x(i)\n",
    "            elif var == \"Y\":\n",
    "                RCqc.y(i)\n",
    "            elif var == \"Z\":\n",
    "                RCqc.z(i)\n",
    "            elif var == \"H\":\n",
    "                RCqc.h(i)\n",
    "            elif var == \"I\":\n",
    "                RCqc.id(i)\n",
    "            #elif var == \"T\":\n",
    "                #RCqc.t(i) do not recognize anymore\n",
    "            elif var == \"Yn90\": #the weird class of compiled gates:\n",
    "                RCqc.ry(-np.pi/2,i)\n",
    "            else:\n",
    "                print(f\"randEXgates has unexpected gate from mat2gate function at index {i}\")\n",
    "        RCqc.cx(int(controls[j]),int(targets[j]))\n",
    "        RCqc.barrier()\n",
    "    \n",
    "    for i in range(len(targets)*numQubits,len(randEZgates)):\n",
    "        var = randEZgates[i]\n",
    "        if var == \"X\":\n",
    "            RCqc.x(i-len(targets)*numQubits)\n",
    "        elif var == \"Y\":\n",
    "            RCqc.y(i-len(targets)*numQubits)\n",
    "        elif var == \"Z\":\n",
    "            RCqc.z(i-len(targets)*numQubits)\n",
    "        elif var == \"H\":\n",
    "            RCqc.h(i-len(targets)*numQubits)\n",
    "        elif var == \"I\":\n",
    "            RCqc.id(i-len(targets)*numQubits)\n",
    "        #elif var == \"T\":\n",
    "            #RCqc.t(i-len(targets)*numQubits) not a possibility anymore\n",
    "        elif var == \"Yn90\": #the weird class of compiled gates:\n",
    "            RCqc.ry(-np.pi/2,i-len(targets)*numQubits)\n",
    "        else:\n",
    "            print(f\"randEZgates has unexpected gate from mat2gate function at index {i}\")\n",
    "    return RCqc"
   ]
  },
  {
   "cell_type": "code",
   "execution_count": 19,
   "id": "933e9cae-2da7-4ffb-85ec-e4d1d9cfeb5b",
   "metadata": {},
   "outputs": [
    {
     "data": {
      "text/html": [
       "<pre style=\"word-wrap: normal;white-space: pre;background: #fff0;line-height: 1.1;font-family: &quot;Courier New&quot;,Courier,monospace\">     ┌──────────┐      ░ ┌───┐      ░    ┌───┐          ░ ┌───┐\n",
       "q_0: ┤ RY(-π/2) ├──────░─┤ X ├──■───░────┤ Z ├──────────░─┤ Y ├\n",
       "     └──┬───┬───┘┌───┐ ░ ├───┤┌─┴─┐ ░    ├───┤    ┌───┐ ░ ├───┤\n",
       "q_1: ───┤ I ├────┤ X ├─░─┤ Y ├┤ X ├─░────┤ I ├────┤ X ├─░─┤ I ├\n",
       "        ├───┤    └─┬─┘ ░ ├───┤└───┘ ░    ├───┤    └─┬─┘ ░ ├───┤\n",
       "q_2: ───┤ I ├──────┼───░─┤ X ├──────░────┤ Y ├──────┼───░─┤ I ├\n",
       "        ├───┤      │   ░ ├───┤      ░ ┌──┴───┴───┐  │   ░ ├───┤\n",
       "q_3: ───┤ Z ├──────■───░─┤ Z ├──────░─┤ RY(-π/2) ├──■───░─┤ Z ├\n",
       "        └───┘          ░ └───┘      ░ └──────────┘      ░ └───┘</pre>"
      ],
      "text/plain": [
       "     ┌──────────┐      ░ ┌───┐      ░    ┌───┐          ░ ┌───┐\n",
       "q_0: ┤ RY(-π/2) ├──────░─┤ X ├──■───░────┤ Z ├──────────░─┤ Y ├\n",
       "     └──┬───┬───┘┌───┐ ░ ├───┤┌─┴─┐ ░    ├───┤    ┌───┐ ░ ├───┤\n",
       "q_1: ───┤ I ├────┤ X ├─░─┤ Y ├┤ X ├─░────┤ I ├────┤ X ├─░─┤ I ├\n",
       "        ├───┤    └─┬─┘ ░ ├───┤└───┘ ░    ├───┤    └─┬─┘ ░ ├───┤\n",
       "q_2: ───┤ I ├──────┼───░─┤ X ├──────░────┤ Y ├──────┼───░─┤ I ├\n",
       "        ├───┤      │   ░ ├───┤      ░ ┌──┴───┴───┐  │   ░ ├───┤\n",
       "q_3: ───┤ Z ├──────■───░─┤ Z ├──────░─┤ RY(-π/2) ├──■───░─┤ Z ├\n",
       "        └───┘          ░ └───┘      ░ └──────────┘      ░ └───┘"
      ]
     },
     "execution_count": 19,
     "metadata": {},
     "output_type": "execute_result"
    }
   ],
   "source": [
    "qc = final_product(randEZgates, controls, targets, numQubits)\n",
    "qc.draw()"
   ]
  },
  {
   "cell_type": "code",
   "execution_count": 20,
   "id": "07403a42-5fc1-4b0c-ae66-bf25f4c9f75f",
   "metadata": {},
   "outputs": [
    {
     "data": {
      "text/html": [
       "<pre style=\"word-wrap: normal;white-space: pre;background: #fff0;line-height: 1.1;font-family: &quot;Courier New&quot;,Courier,monospace\">     ┌───┐      ░ ┌───┐      ░ ┌───┐      ░ ┌───┐\n",
       "q_0: ┤ H ├──────░─┤ Y ├──■───░─┤ X ├──────░─┤ X ├\n",
       "     ├───┤┌───┐ ░ ├───┤┌─┴─┐ ░ ├───┤┌───┐ ░ ├───┤\n",
       "q_1: ┤ X ├┤ X ├─░─┤ Z ├┤ X ├─░─┤ Y ├┤ X ├─░─┤ Z ├\n",
       "     ├───┤└─┬─┘ ░ ├───┤└───┘ ░ ├───┤└─┬─┘ ░ ├───┤\n",
       "q_2: ┤ I ├──┼───░─┤ Y ├──────░─┤ Z ├──┼───░─┤ Y ├\n",
       "     ├───┤  │   ░ ├───┤      ░ ├───┤  │   ░ ├───┤\n",
       "q_3: ┤ X ├──■───░─┤ Z ├──────░─┤ H ├──■───░─┤ Z ├\n",
       "     └───┘      ░ └───┘      ░ └───┘      ░ └───┘</pre>"
      ],
      "text/plain": [
       "     ┌───┐      ░ ┌───┐      ░ ┌───┐      ░ ┌───┐\n",
       "q_0: ┤ H ├──────░─┤ Y ├──■───░─┤ X ├──────░─┤ X ├\n",
       "     ├───┤┌───┐ ░ ├───┤┌─┴─┐ ░ ├───┤┌───┐ ░ ├───┤\n",
       "q_1: ┤ X ├┤ X ├─░─┤ Z ├┤ X ├─░─┤ Y ├┤ X ├─░─┤ Z ├\n",
       "     ├───┤└─┬─┘ ░ ├───┤└───┘ ░ ├───┤└─┬─┘ ░ ├───┤\n",
       "q_2: ┤ I ├──┼───░─┤ Y ├──────░─┤ Z ├──┼───░─┤ Y ├\n",
       "     ├───┤  │   ░ ├───┤      ░ ├───┤  │   ░ ├───┤\n",
       "q_3: ┤ X ├──■───░─┤ Z ├──────░─┤ H ├──■───░─┤ Z ├\n",
       "     └───┘      ░ └───┘      ░ └───┘      ░ └───┘"
      ]
     },
     "execution_count": 20,
     "metadata": {},
     "output_type": "execute_result"
    }
   ],
   "source": [
    "randBC.draw()"
   ]
  },
  {
   "cell_type": "code",
   "execution_count": 21,
   "id": "ea9f18d7-14c7-4ea4-b922-771593643346",
   "metadata": {},
   "outputs": [],
   "source": [
    "#still need to: run bare circuit and RC circuits to compare probability dist.s as compared to the ideal "
   ]
  },
  {
   "cell_type": "code",
   "execution_count": 51,
   "id": "7887a8e5-5669-4205-95cc-67b675766b60",
   "metadata": {},
   "outputs": [],
   "source": [
    "import matplotlib.pyplot as plt\n",
    "from qiskit.visualization import plot_histogram"
   ]
  },
  {
   "cell_type": "code",
   "execution_count": 42,
   "id": "122b85e4-ee1c-44b6-af25-c2fbf56ff2e0",
   "metadata": {},
   "outputs": [],
   "source": [
    "def apply_gate(gate, state):\n",
    "    out_state = np.dot(gate2mat(gate),state)\n",
    "    return out_state"
   ]
  },
  {
   "cell_type": "code",
   "execution_count": 43,
   "id": "630fc730-d456-432a-8297-1fd79075e38d",
   "metadata": {},
   "outputs": [],
   "source": [
    "def execute(gate_list, shots=1000):\n",
    "    # 1. Create the single qubit circuit\n",
    "    qubit = np.array([[1],\n",
    "                      [0]])\n",
    "    # 2. Calculate the statevector of that circuit\n",
    "    for gate in gate_list:\n",
    "        qubit = apply_gate(gate, qubit)\n",
    "    # 3. Pick a state, given the probability \n",
    "    #       distribution (repeat this = no. of shots)\n",
    "    probs = convert(qubit).reshape(-1)\n",
    "    \n",
    "    # 4. Record the counts of each state\n",
    "    counts = {\"0\": 0, \"1\": 0}\n",
    "    for i in range(shots):\n",
    "        pick = np.random.choice([\"0\",\"1\"], p=probs)\n",
    "        counts[pick] += 1\n",
    "    \n",
    "    return counts"
   ]
  },
  {
   "cell_type": "code",
   "execution_count": 44,
   "id": "dd357c64-de9d-4c6d-b8de-31551570bc59",
   "metadata": {},
   "outputs": [
    {
     "data": {
      "text/plain": [
       "['H', 'I', 'Y', 'I', 'X', 'I', 'X']"
      ]
     },
     "execution_count": 44,
     "metadata": {},
     "output_type": "execute_result"
    }
   ],
   "source": [
    "#extracting the gate list put in q0 in the bare circuit from \"easyGates\" from parsing function\n",
    "#the issue: also need to add an X gate if qubit is a target in a cycle\n",
    "BCgate_List = []\n",
    "for i in range(numCycles-1):\n",
    "    BCgate_List.append(easyGates[i*numQubits])\n",
    "    if targets[i]==\"0\":\n",
    "        BCgate_List.append(\"X\")\n",
    "    else:\n",
    "        BCgate_List.append(\"I\")\n",
    "BCgate_List.append(easyGates[-numQubits])\n",
    "\n",
    "BCgate_List"
   ]
  },
  {
   "cell_type": "code",
   "execution_count": 45,
   "id": "fa3a94b2-2933-4a47-b75e-b8d93253593f",
   "metadata": {},
   "outputs": [
    {
     "data": {
      "text/plain": [
       "['Yn90', 'I', 'X', 'I', 'Z', 'I', 'Y']"
      ]
     },
     "execution_count": 45,
     "metadata": {},
     "output_type": "execute_result"
    }
   ],
   "source": [
    "#extracting the gate list put in q0 in the RC circuit from \"randEZgates\" from parsing function\n",
    "RCgate_List = []\n",
    "for i in range(numCycles-1):\n",
    "    RCgate_List.append(randEZgates[i*numQubits])\n",
    "    if targets[i]==\"0\":\n",
    "        RCgate_List.append(\"X\")\n",
    "    else:\n",
    "        RCgate_List.append(\"I\")\n",
    "RCgate_List.append(randEZgates[-numQubits])\n",
    "\n",
    "RCgate_List"
   ]
  },
  {
   "cell_type": "code",
   "execution_count": 47,
   "id": "d68d4764-4b46-44bf-b5fc-01f04b5f832b",
   "metadata": {},
   "outputs": [],
   "source": [
    "def convert(statevector):\n",
    "    probability_vector = []\n",
    "    for row in statevector:\n",
    "        for value in row:\n",
    "            probability = np.power(np.abs(value), 2)\n",
    "            probability_vector.append(probability)\n",
    "                \n",
    "    return np.array(probability_vector)"
   ]
  },
  {
   "cell_type": "code",
   "execution_count": 49,
   "id": "85d4a37a-69b1-4b8f-99de-0ac4c0eabc53",
   "metadata": {},
   "outputs": [],
   "source": [
    "def create_histogram(prob_vec):\n",
    "    fig, ax = plt.subplots()\n",
    "    labels = [\"0\",\"1\"]\n",
    "    heights = prob_vec.reshape(-1)\n",
    "    ax.bar(labels, heights)\n",
    "    ax.set_title(\"Probability of 0 and 1 measurements\")\n",
    "    ax.set_xlabel(\"States\")\n",
    "    ax.set_ylabel(\"Probability\")\n",
    "    ax.set_ylim([0,1])\n",
    "    plt.show()"
   ]
  },
  {
   "cell_type": "code",
   "execution_count": 52,
   "id": "ade8083d-20ad-4d94-89de-4df2d1dc1ccf",
   "metadata": {},
   "outputs": [
    {
     "data": {
      "image/png": "[encoded data removed]",
      "text/plain": [
       "<Figure size 432x288 with 1 Axes>"
      ]
     },
     "metadata": {
      "needs_background": "light"
     },
     "output_type": "display_data"
    }
   ],
   "source": [
    "counts = execute(BCgate_List, shots=2000)\n",
    "ls = list(counts.values())\n",
    "probs = ls/np.sum(ls)\n",
    "create_histogram(probs)"
   ]
  },
  {
   "cell_type": "code",
   "execution_count": 53,
   "id": "aab0d634-1207-4119-9eff-1b1e0fedf8b6",
   "metadata": {},
   "outputs": [
    {
     "data": {
      "image/png": "[encoded data removed]",
      "text/plain": [
       "<Figure size 432x288 with 1 Axes>"
      ]
     },
     "metadata": {
      "needs_background": "light"
     },
     "output_type": "display_data"
    }
   ],
   "source": [
    "counts = execute(RCgate_List, shots=2000)\n",
    "ls = list(counts.values())\n",
    "probs = ls/np.sum(ls)\n",
    "create_histogram(probs)"
   ]
  },
  {
   "cell_type": "code",
   "execution_count": 22,
   "id": "f454f877-0867-4adc-829a-e6ddde00d1a1",
   "metadata": {},
   "outputs": [],
   "source": [
    "#lingering question: ask Phil if orientation of the vector matters, or just its position in the Bloch Sphere \n",
    "# - he said it shouldn't, so minusOpp should be fine to be assigned to Yn90 rotation"
   ]
  },
  {
   "cell_type": "code",
   "execution_count": 23,
   "id": "2d07bbe5-b404-4f56-954f-470c03dee8b6",
   "metadata": {},
   "outputs": [],
   "source": [
    "#bare = QuantumCircuit(3,1) \n",
    "#this is the sample circuit that we perform RC for in this code\n",
    "#bare.h(0)\n",
    "#bare.i(1)\n",
    "#bare.cx(0,1) \n",
    "#bare.i(2) \n",
    "#end of the first cycle; each inputted circuit must be coded like this\n",
    "#bare.barrier()\n",
    "\n",
    "#bare.y(0)\n",
    "#bare.i(1)\n",
    "#bare.h(2)\n",
    "#bare.cx(1,2)\n",
    "#end of second cycle; the cx command can be placed anywhere within the barriers,\n",
    "# but the single qubit gates must be assigned to qubits in ascending order\n",
    "#bare.barrier()\n",
    "\n",
    "#bare.i(0)\n",
    "#bare.x(1)\n",
    "#bare.i(2)\n",
    "#the last cycle must contain no hard (cx) gates, only easy (single-qubit) gates.\n",
    "#bare.draw()\n",
    "\n",
    "#another restriction is the use of only H,X,Z,Y,I, and CNOT gates initially"
   ]
  },
  {
   "cell_type": "code",
   "execution_count": 24,
   "id": "3ebf7e69-3945-45e1-a86e-64986d4221e1",
   "metadata": {},
   "outputs": [],
   "source": [
    "#bare2 = QuantumCircuit(4)\n",
    "#bare2.x(0)\n",
    "#bare2.x(1)\n",
    "#bare2.cx(0,1) \n",
    "#bare2.x(2) \n",
    "#bare2.z(3)\n",
    "#end of the first cycle; each inputted circuit must be coded like this\n",
    "#bare2.barrier()\n",
    "\n",
    "#bare2.y(0)\n",
    "#bare2.i(1)\n",
    "#bare2.h(2)\n",
    "#bare2.z(3)\n",
    "#bare2.cx(1,3)\n",
    "\n",
    "#end of second cycle; the cx command can be placed anywhere within the barriers,\n",
    "# but the single qubit gates must be assigned to qubits in ascending order\n",
    "#bare2.barrier()\n",
    "\n",
    "#bare2.i(0)\n",
    "#bare2.x(1)\n",
    "#bare2.i(2)\n",
    "#bare2.h(3)\n",
    "#the last cycle must contain no hard (cx) gates, only easy (single-qubit) gates.\n",
    "#bare2.draw()"
   ]
  },
  {
   "cell_type": "code",
   "execution_count": null,
   "id": "b235ddcf-4af5-4dc1-9119-c9aa58d85209",
   "metadata": {},
   "outputs": [],
   "source": []
  }
 ],
 "metadata": {
  "kernelspec": {
   "display_name": "Python 3 (ipykernel)",
   "language": "python",
   "name": "python3"
  },
  "language_info": {
   "codemirror_mode": {
    "name": "ipython",
    "version": 3
   },
   "file_extension": ".py",
   "mimetype": "text/x-python",
   "name": "python",
   "nbconvert_exporter": "python",
   "pygments_lexer": "ipython3",
   "version": "3.9.7"
  }
 },
 "nbformat": 4,
 "nbformat_minor": 5
}
